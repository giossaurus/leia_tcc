{
 "cells": [
  {
   "cell_type": "markdown",
   "id": "5f866069",
   "metadata": {},
   "source": []
  },
  {
   "cell_type": "code",
   "execution_count": 1,
   "id": "9fa89e58",
   "metadata": {},
   "outputs": [],
   "source": [
    "import pandas as pd"
   ]
  },
  {
   "cell_type": "code",
   "execution_count": 3,
   "id": "e0df8a87",
   "metadata": {},
   "outputs": [],
   "source": [
    "# 1. Carregar o dataset completo\n",
    "df = pd.read_csv('/Users/giossaurus/Developer/leia_tcc/data/interim/simulados_enem_completo.csv')"
   ]
  },
  {
   "cell_type": "code",
   "execution_count": 4,
   "id": "a1ebc807",
   "metadata": {},
   "outputs": [],
   "source": [
    "# 2. Renomear a coluna para maior clareza\n",
    "df.rename(columns={'dataset': 'disciplina'}, inplace=True)"
   ]
  },
  {
   "cell_type": "code",
   "execution_count": 5,
   "id": "7af91e92",
   "metadata": {},
   "outputs": [],
   "source": [
    "# 3. Definir o número de amostras para o \"Golden Set\" de 500\n",
    "golden_set_samples = {\n",
    "    'Ciências da Natureza': 140,\n",
    "    'Ciências Humanas': 133,\n",
    "    'Linguagens e Códigos': 118,\n",
    "    'Matemática': 111\n",
    "}"
   ]
  },
  {
   "cell_type": "code",
   "execution_count": 6,
   "id": "4fae5a14",
   "metadata": {},
   "outputs": [],
   "source": [
    "# 4. Criar a amostra estratificada\n",
    "sampled_dfs = []\n",
    "for subject, n_samples in golden_set_samples.items():\n",
    "    subject_df = df[df['disciplina'] == subject]\n",
    "    # Usamos n=n_samples para pegar o número exato que calculamos\n",
    "    sampled_dfs.append(subject_df.sample(n=n_samples, random_state=42))"
   ]
  },
  {
   "cell_type": "code",
   "execution_count": 7,
   "id": "d6dde153",
   "metadata": {},
   "outputs": [
    {
     "name": "stdout",
     "output_type": "stream",
     "text": [
      "--- Golden Set ---\n",
      "Tamanho da amostra: 502\n",
      "Distribuição das disciplinas na amostra:\n",
      "disciplina\n",
      "Ciências da Natureza    140\n",
      "Ciências Humanas        133\n",
      "Linguagens e Códigos    118\n",
      "Matemática              111\n",
      "Name: count, dtype: int64\n"
     ]
    }
   ],
   "source": [
    "# 5. Concatenar e embaralhar o dataframe final\n",
    "golden_set_df = pd.concat(sampled_dfs)\n",
    "golden_set_df = golden_set_df.sample(frac=1, random_state=42).reset_index(drop=True)\n",
    "\n",
    "print(\"--- Golden Set ---\")\n",
    "print(\"Tamanho da amostra:\", len(golden_set_df))\n",
    "print(\"Distribuição das disciplinas na amostra:\")\n",
    "print(golden_set_df['disciplina'].value_counts())"
   ]
  },
  {
   "cell_type": "code",
   "execution_count": 10,
   "id": "b42ed72a",
   "metadata": {},
   "outputs": [
    {
     "name": "stdout",
     "output_type": "stream",
     "text": [
      "\n",
      "'Golden Set' salvo com sucesso\n"
     ]
    }
   ],
   "source": [
    "# 6. Salvar o arquivo que será usado para a anotação manual\n",
    "golden_set_df.to_csv('/Users/giossaurus/Developer/leia_tcc/data/processed/golden_set_para_anotacao.csv', index=False)\n",
    "print(\"\\n'Golden Set' salvo com sucesso\")"
   ]
  }
 ],
 "metadata": {
  "kernelspec": {
   "display_name": "torch-mps",
   "language": "python",
   "name": "python3"
  },
  "language_info": {
   "codemirror_mode": {
    "name": "ipython",
    "version": 3
   },
   "file_extension": ".py",
   "mimetype": "text/x-python",
   "name": "python",
   "nbconvert_exporter": "python",
   "pygments_lexer": "ipython3",
   "version": "3.10.18"
  }
 },
 "nbformat": 4,
 "nbformat_minor": 5
}
