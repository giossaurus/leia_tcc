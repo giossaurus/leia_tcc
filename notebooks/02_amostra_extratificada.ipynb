{
 "cells": [
  {
   "cell_type": "markdown",
   "id": "3fc703c8",
   "metadata": {},
   "source": [
    "##Nesse notebook vamos definir uma amostra estratificada do dataset de simulados do ENEM (anteriormente explorados), garantindo que cada disciplina esteja representada proporcionalmente. Seguiremos os seguintes passos:\n",
    "\n",
    "###1. Definir o número de amostras por disciplina: Com base na distribuição original, decidimos que ≈2.500 exemplos são suficientes para treinar um modelo eficaz, mantendo a diversidade.\n",
    "\n",
    "###2. Calcular a amostra por disciplina: Considerando o valor total de 7.357 questões, calculamos o número de exemplos a serem amostrados de cada disciplina para manter a representatividade.\n",
    "    - Ciências da Natureza: 2.050 / 7.357 ≈ 27.9%\n",
    "    - Ciências Humanas: 1.947 / 7.357 ≈ 26.5%\n",
    "    - Linguagens e Códigos: 1.737 / 7.357 ≈ 23.6%\n",
    "    - Matemática: 1.623 / 7.357 ≈ 22.1%\n",
    "\n",
    "    Agora, aplicamos essas porcentagens ao nosso alvo de ≈2.500 exemplos:\n",
    "    - Ciências da Natureza: 2.500 * 0.279 = 698 exemplos\n",
    "    - Ciências Humanas: 2.500 * 0.265 = 663 exemplos\n",
    "    - Linguagens e Códigos: 2.500 * 0.236 = 590 exemplos\n",
    "    - Matemática: 2.500 * 0.221 = 552 exemplos\n",
    "\n",
    "    Total: 2.503 exemplos (com arrendondamento).\n",
    "\n",
    "###3. Criar o script para amostragem estratificada\n",
    "\n",
    "###4. Salvar a amostra final em CSV para uso futuro na anotação e treinamento de modelos."
   ]
  },
  {
   "cell_type": "code",
   "execution_count": 1,
   "id": "4b78f420",
   "metadata": {},
   "outputs": [],
   "source": [
    "import pandas as pd"
   ]
  },
  {
   "cell_type": "code",
   "execution_count": 6,
   "id": "01a7e658",
   "metadata": {},
   "outputs": [],
   "source": [
    "# 1. Carregar o seu dataset completo salvo anteriormente\n",
    "df = pd.read_csv('/Users/giossaurus/Developer/leia_tcc/data/interim/simulados_enem_completo.csv')"
   ]
  },
  {
   "cell_type": "code",
   "execution_count": 7,
   "id": "eb6d7863",
   "metadata": {},
   "outputs": [
    {
     "name": "stdout",
     "output_type": "stream",
     "text": [
      "Colunas renomeadas com sucesso!\n"
     ]
    }
   ],
   "source": [
    "# 2. Renomear a coluna para maior clareza\n",
    "df.rename(columns={'dataset': 'disciplina'}, inplace=True)\n",
    "print(\"Colunas renomeadas com sucesso!\")"
   ]
  },
  {
   "cell_type": "code",
   "execution_count": 8,
   "id": "fe643b53",
   "metadata": {},
   "outputs": [],
   "source": [
    "# 3. Definir o número de amostras por disciplina\n",
    "samples_per_subject = {\n",
    "    'Ciências da Natureza': 698,\n",
    "    'Ciências Humanas': 663,\n",
    "    'Linguagens e Códigos': 590,\n",
    "    'Matemática': 552\n",
    "}"
   ]
  },
  {
   "cell_type": "code",
   "execution_count": 9,
   "id": "0329168b",
   "metadata": {},
   "outputs": [],
   "source": [
    "# 4. Criar a amostra estratificada\n",
    "sampled_dfs = []\n",
    "for subject, n_samples in samples_per_subject.items():\n",
    "    subject_df = df[df['disciplina'] == subject]\n",
    "    sampled_dfs.append(subject_df.sample(n=n_samples, random_state=42))"
   ]
  },
  {
   "cell_type": "code",
   "execution_count": 10,
   "id": "855c7288",
   "metadata": {},
   "outputs": [
    {
     "name": "stdout",
     "output_type": "stream",
     "text": [
      "\n",
      "--- Amostra Final ---\n",
      "Tamanho da amostra: 2503\n",
      "Distribuição das disciplinas na amostra:\n",
      "disciplina\n",
      "Ciências da Natureza    698\n",
      "Ciências Humanas        663\n",
      "Linguagens e Códigos    590\n",
      "Matemática              552\n",
      "Name: count, dtype: int64\n"
     ]
    }
   ],
   "source": [
    "# 5. Concatenar e embaralhar o dataframe final\n",
    "final_sample_df = pd.concat(sampled_dfs)\n",
    "final_sample_df = final_sample_df.sample(frac=1, random_state=42).reset_index(drop=True)\n",
    "\n",
    "print(\"\\n--- Amostra Final ---\")\n",
    "print(\"Tamanho da amostra:\", len(final_sample_df))\n",
    "print(\"Distribuição das disciplinas na amostra:\")\n",
    "print(final_sample_df['disciplina'].value_counts())\n"
   ]
  },
  {
   "cell_type": "code",
   "execution_count": 13,
   "id": "ff0e03f2",
   "metadata": {},
   "outputs": [
    {
     "name": "stdout",
     "output_type": "stream",
     "text": [
      "\n",
      "Amostra salva com sucesso em 'data/processed/nlu_amostra_para_anotacao.csv'\n"
     ]
    }
   ],
   "source": [
    "# 6. Salvar o arquivo que será importado no Label Studio\n",
    "final_sample_df.to_csv('/Users/giossaurus/Developer/leia_tcc/data/processed/nlu_amostra_para_anotacao.csv', index=False)\n",
    "print(\"\\nAmostra salva com sucesso em 'data/processed/nlu_amostra_para_anotacao.csv'\")"
   ]
  }
 ],
 "metadata": {
  "kernelspec": {
   "display_name": "torch-mps",
   "language": "python",
   "name": "python3"
  },
  "language_info": {
   "codemirror_mode": {
    "name": "ipython",
    "version": 3
   },
   "file_extension": ".py",
   "mimetype": "text/x-python",
   "name": "python",
   "nbconvert_exporter": "python",
   "pygments_lexer": "ipython3",
   "version": "3.10.18"
  }
 },
 "nbformat": 4,
 "nbformat_minor": 5
}
