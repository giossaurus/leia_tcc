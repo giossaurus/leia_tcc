{
 "cells": [
  {
   "cell_type": "code",
   "execution_count": 8,
   "id": "f3b76557",
   "metadata": {},
   "outputs": [],
   "source": [
    "import pandas as pd\n",
    "from datasets import Dataset\n",
    "from transformers import (\n",
    "    AutoTokenizer,\n",
    "    AutoModelForSequenceClassification,\n",
    "    TrainingArguments,\n",
    "    Trainer\n",
    ")\n",
    "import numpy as np\n",
    "import evaluate"
   ]
  },
  {
   "cell_type": "code",
   "execution_count": 9,
   "id": "e16d4309",
   "metadata": {},
   "outputs": [
    {
     "name": "stdout",
     "output_type": "stream",
     "text": [
      "Dataset de Treino (Supervisão Fraca): 1484 exemplos\n",
      "Dataset de Avaliação (Golden Set): 200 exemplos\n"
     ]
    }
   ],
   "source": [
    "# --- 1. CARREGAR DATASET DE TREINO (FRACO) E DE AVALIAÇÃO (GOLDEN SET) ---\n",
    "\n",
    "# Carregar o grande dataset de treino que você acabou de gerar\n",
    "path_train_ws = '/Users/giossaurus/Developer/leia_tcc/data/processed/weak_supervision_train_set.csv'\n",
    "df_train = pd.read_csv(path_train_ws)\n",
    "\n",
    "# Carregar nosso Golden Set para avaliação\n",
    "path_eval_golden = '/Users/giossaurus/Developer/leia_tcc/data/processed/seed_set_anotado.csv'\n",
    "df_eval = pd.read_csv(path_eval_golden)\n",
    "\n",
    "print(f\"Dataset de Treino (Supervisão Fraca): {len(df_train)} exemplos\")\n",
    "print(f\"Dataset de Avaliação (Golden Set): {len(df_eval)} exemplos\")"
   ]
  },
  {
   "cell_type": "code",
   "execution_count": 10,
   "id": "22ee5f73",
   "metadata": {},
   "outputs": [
    {
     "data": {
      "application/vnd.jupyter.widget-view+json": {
       "model_id": "9d437c47d0d347d8959814a6005f96a0",
       "version_major": 2,
       "version_minor": 0
      },
      "text/plain": [
       "Casting the dataset:   0%|          | 0/1484 [00:00<?, ? examples/s]"
      ]
     },
     "metadata": {},
     "output_type": "display_data"
    },
    {
     "data": {
      "application/vnd.jupyter.widget-view+json": {
       "model_id": "a164e9cb872044f2b275d55f0ba003e3",
       "version_major": 2,
       "version_minor": 0
      },
      "text/plain": [
       "Casting the dataset:   0%|          | 0/200 [00:00<?, ? examples/s]"
      ]
     },
     "metadata": {},
     "output_type": "display_data"
    }
   ],
   "source": [
    "# --- 2. PREPARAR OS DADOS PARA O MODELO ---\n",
    "\n",
    "# Renomear colunas\n",
    "df_train = df_train.rename(columns={'question': 'text', 'weak_label': 'label'})\n",
    "df_eval = df_eval.rename(columns={'question': 'text', 'intent_choice': 'label'})\n",
    "\n",
    "# Mapear rótulos para IDs (usando os rótulos do Golden Set como referência de consistência)\n",
    "labels = df_eval['label'].unique().tolist()\n",
    "id2label = {i: label for i, label in enumerate(labels)}\n",
    "# Criar o reverso do id2label para mapear os IDs numéricos dos rótulos fracos de volta para texto\n",
    "id2label_ws = {0: 'Conceitual', 1: 'Procedimental', 2: 'Análise de Exemplo', 3: 'Comparativo'}\n",
    "label2id = {label: i for i, label in enumerate(labels)}\n",
    "\n",
    "# Aplicar mapeamento\n",
    "df_train['label'] = df_train['label'].map(id2label_ws) # Mapear de ID numérico para texto primeiro\n",
    "df_train['label'] = df_train['label'].map(label2id) # Agora de texto para o ID correto e consistente\n",
    "df_eval['label'] = df_eval['label'].map(label2id)\n",
    "\n",
    "# Remover quaisquer linhas que possam ter ficado sem rótulo\n",
    "df_train.dropna(subset=['label'], inplace=True)\n",
    "df_eval.dropna(subset=['label'], inplace=True)\n",
    "df_train['label'] = df_train['label'].astype(int)\n",
    "df_eval['label'] = df_eval['label'].astype(int)\n",
    "\n",
    "# Converter para Datasets do Hugging Face\n",
    "from datasets import ClassLabel\n",
    "train_dataset = Dataset.from_pandas(df_train)\n",
    "eval_dataset = Dataset.from_pandas(df_eval)\n",
    "\n",
    "# Configurar ClassLabel para ambos os datasets\n",
    "features_train = train_dataset.features.copy()\n",
    "features_train['label'] = ClassLabel(names=labels)\n",
    "train_dataset = train_dataset.cast(features_train)\n",
    "\n",
    "features_eval = eval_dataset.features.copy()\n",
    "features_eval['label'] = ClassLabel(names=labels)\n",
    "eval_dataset = eval_dataset.cast(features_eval)"
   ]
  },
  {
   "cell_type": "code",
   "execution_count": 11,
   "id": "0fd25a7f",
   "metadata": {},
   "outputs": [
    {
     "data": {
      "application/vnd.jupyter.widget-view+json": {
       "model_id": "f3bdfa494e9048348522ffe74c7cda04",
       "version_major": 2,
       "version_minor": 0
      },
      "text/plain": [
       "Map:   0%|          | 0/1484 [00:00<?, ? examples/s]"
      ]
     },
     "metadata": {},
     "output_type": "display_data"
    },
    {
     "data": {
      "application/vnd.jupyter.widget-view+json": {
       "model_id": "7018c65b6472457682bb1c82df5d04a8",
       "version_major": 2,
       "version_minor": 0
      },
      "text/plain": [
       "Map:   0%|          | 0/200 [00:00<?, ? examples/s]"
      ]
     },
     "metadata": {},
     "output_type": "display_data"
    },
    {
     "name": "stderr",
     "output_type": "stream",
     "text": [
      "Some weights of DistilBertForSequenceClassification were not initialized from the model checkpoint at distilbert-base-uncased and are newly initialized: ['classifier.bias', 'classifier.weight', 'pre_classifier.bias', 'pre_classifier.weight']\n",
      "You should probably TRAIN this model on a down-stream task to be able to use it for predictions and inference.\n"
     ]
    }
   ],
   "source": [
    "# --- 3. PREPARAR O MODELO E TOKENIZADOR ---\n",
    "model_checkpoint = \"distilbert-base-uncased\"\n",
    "tokenizer = AutoTokenizer.from_pretrained(model_checkpoint)\n",
    "\n",
    "def tokenize_function(examples):\n",
    "    return tokenizer(examples[\"text\"], padding=\"max_length\", truncation=True, max_length=512)\n",
    "\n",
    "tokenized_train_dataset = train_dataset.map(tokenize_function, batched=True)\n",
    "tokenized_eval_dataset = eval_dataset.map(tokenize_function, batched=True)\n",
    "\n",
    "model = AutoModelForSequenceClassification.from_pretrained(\n",
    "    model_checkpoint,\n",
    "    num_labels=len(labels),\n",
    "    id2label=id2label,\n",
    "    label2id=label2id\n",
    ")"
   ]
  },
  {
   "cell_type": "code",
   "execution_count": 12,
   "id": "b3e16fae",
   "metadata": {},
   "outputs": [
    {
     "name": "stderr",
     "output_type": "stream",
     "text": [
      "/var/folders/k4/x1x0j4qs0svb48fpvhhvkmbh0000gn/T/ipykernel_41900/2167632289.py:26: FutureWarning: `tokenizer` is deprecated and will be removed in version 5.0.0 for `Trainer.__init__`. Use `processing_class` instead.\n",
      "  trainer = Trainer(\n"
     ]
    },
    {
     "name": "stdout",
     "output_type": "stream",
     "text": [
      "\n",
      "--- INICIANDO TREINAMENTO COM SUPERVISÃO FRACA (DATASET GRANDE) ---\n"
     ]
    },
    {
     "name": "stderr",
     "output_type": "stream",
     "text": [
      "/opt/homebrew/Caskroom/miniforge/base/envs/torch-mps/lib/python3.10/site-packages/torch/utils/data/dataloader.py:684: UserWarning: 'pin_memory' argument is set as true but not supported on MPS now, then device pinned memory won't be used.\n",
      "  warnings.warn(warn_msg)\n"
     ]
    },
    {
     "data": {
      "text/html": [
       "\n",
       "    <div>\n",
       "      \n",
       "      <progress value='930' max='930' style='width:300px; height:20px; vertical-align: middle;'></progress>\n",
       "      [930/930 08:31, Epoch 5/5]\n",
       "    </div>\n",
       "    <table border=\"1\" class=\"dataframe\">\n",
       "  <thead>\n",
       " <tr style=\"text-align: left;\">\n",
       "      <th>Epoch</th>\n",
       "      <th>Training Loss</th>\n",
       "      <th>Validation Loss</th>\n",
       "      <th>Accuracy</th>\n",
       "      <th>F1</th>\n",
       "    </tr>\n",
       "  </thead>\n",
       "  <tbody>\n",
       "    <tr>\n",
       "      <td>1</td>\n",
       "      <td>No log</td>\n",
       "      <td>1.478730</td>\n",
       "      <td>0.365000</td>\n",
       "      <td>0.202322</td>\n",
       "    </tr>\n",
       "    <tr>\n",
       "      <td>2</td>\n",
       "      <td>No log</td>\n",
       "      <td>1.732278</td>\n",
       "      <td>0.255000</td>\n",
       "      <td>0.217301</td>\n",
       "    </tr>\n",
       "    <tr>\n",
       "      <td>3</td>\n",
       "      <td>0.796200</td>\n",
       "      <td>2.151726</td>\n",
       "      <td>0.330000</td>\n",
       "      <td>0.255963</td>\n",
       "    </tr>\n",
       "    <tr>\n",
       "      <td>4</td>\n",
       "      <td>0.796200</td>\n",
       "      <td>2.235281</td>\n",
       "      <td>0.305000</td>\n",
       "      <td>0.235569</td>\n",
       "    </tr>\n",
       "    <tr>\n",
       "      <td>5</td>\n",
       "      <td>0.796200</td>\n",
       "      <td>2.325731</td>\n",
       "      <td>0.280000</td>\n",
       "      <td>0.223832</td>\n",
       "    </tr>\n",
       "  </tbody>\n",
       "</table><p>"
      ],
      "text/plain": [
       "<IPython.core.display.HTML object>"
      ]
     },
     "metadata": {},
     "output_type": "display_data"
    },
    {
     "name": "stderr",
     "output_type": "stream",
     "text": [
      "/opt/homebrew/Caskroom/miniforge/base/envs/torch-mps/lib/python3.10/site-packages/torch/utils/data/dataloader.py:684: UserWarning: 'pin_memory' argument is set as true but not supported on MPS now, then device pinned memory won't be used.\n",
      "  warnings.warn(warn_msg)\n",
      "/opt/homebrew/Caskroom/miniforge/base/envs/torch-mps/lib/python3.10/site-packages/torch/utils/data/dataloader.py:684: UserWarning: 'pin_memory' argument is set as true but not supported on MPS now, then device pinned memory won't be used.\n",
      "  warnings.warn(warn_msg)\n",
      "/opt/homebrew/Caskroom/miniforge/base/envs/torch-mps/lib/python3.10/site-packages/torch/utils/data/dataloader.py:684: UserWarning: 'pin_memory' argument is set as true but not supported on MPS now, then device pinned memory won't be used.\n",
      "  warnings.warn(warn_msg)\n",
      "/opt/homebrew/Caskroom/miniforge/base/envs/torch-mps/lib/python3.10/site-packages/torch/utils/data/dataloader.py:684: UserWarning: 'pin_memory' argument is set as true but not supported on MPS now, then device pinned memory won't be used.\n",
      "  warnings.warn(warn_msg)\n"
     ]
    },
    {
     "name": "stdout",
     "output_type": "stream",
     "text": [
      "\n",
      "--- TREINAMENTO CONCLUÍDO ---\n",
      "Modelo de Supervisão Fraca salvo em '/Users/giossaurus/Developer/leia_tcc/models/leia_classifier_weak_supervision_final'\n"
     ]
    }
   ],
   "source": [
    "# --- 4. CONFIGURAR E EXECUTAR O TREINAMENTO ---\n",
    "accuracy_metric = evaluate.load(\"accuracy\")\n",
    "f1_metric = evaluate.load(\"f1\")\n",
    "\n",
    "def compute_metrics(eval_pred):\n",
    "    predictions, labels = eval_pred\n",
    "    predictions = np.argmax(predictions, axis=1)\n",
    "    acc = accuracy_metric.compute(predictions=predictions, references=labels)\n",
    "    # Usar average=\"weighted\" é crucial aqui por causa do desbalanceamento\n",
    "    f1 = f1_metric.compute(predictions=predictions, references=labels, average=\"weighted\")\n",
    "    return {\"accuracy\": acc[\"accuracy\"], \"f1\": f1[\"f1\"]}\n",
    "\n",
    "training_args = TrainingArguments(\n",
    "    output_dir=\"/Users/giossaurus/Developer/leia_tcc/models/leia_classifier_weak_supervision\",\n",
    "    eval_strategy=\"epoch\",\n",
    "    save_strategy=\"epoch\",\n",
    "    learning_rate=2e-5,\n",
    "    per_device_train_batch_size=8,\n",
    "    per_device_eval_batch_size=8,\n",
    "    num_train_epochs=5,  # Com mais de 5k dados, 3 épocas é um ótimo ponto de partida\n",
    "    weight_decay=0.01,\n",
    "    load_best_model_at_end=True,\n",
    "    metric_for_best_model=\"f1\",\n",
    ")\n",
    "\n",
    "trainer = Trainer(\n",
    "    model=model,\n",
    "    args=training_args,\n",
    "    train_dataset=tokenized_train_dataset,\n",
    "    eval_dataset=tokenized_eval_dataset,\n",
    "    compute_metrics=compute_metrics,\n",
    "    tokenizer=tokenizer,\n",
    ")\n",
    "\n",
    "print(\"\\n--- INICIANDO TREINAMENTO COM SUPERVISÃO FRACA (DATASET GRANDE) ---\")\n",
    "trainer.train()\n",
    "print(\"\\n--- TREINAMENTO CONCLUÍDO ---\")\n",
    "\n",
    "trainer.save_model(\"/Users/giossaurus/Developer/leia_tcc/models/leia_classifier_weak_supervision_final\")\n",
    "print(\"Modelo de Supervisão Fraca salvo em '/Users/giossaurus/Developer/leia_tcc/models/leia_classifier_weak_supervision_final'\")"
   ]
  }
 ],
 "metadata": {
  "kernelspec": {
   "display_name": "torch-mps",
   "language": "python",
   "name": "python3"
  },
  "language_info": {
   "codemirror_mode": {
    "name": "ipython",
    "version": 3
   },
   "file_extension": ".py",
   "mimetype": "text/x-python",
   "name": "python",
   "nbconvert_exporter": "python",
   "pygments_lexer": "ipython3",
   "version": "3.10.18"
  }
 },
 "nbformat": 4,
 "nbformat_minor": 5
}
