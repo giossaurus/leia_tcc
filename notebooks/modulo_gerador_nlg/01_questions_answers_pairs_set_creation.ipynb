{
 "cells": [
  {
   "cell_type": "code",
   "execution_count": 7,
   "id": "d7911e39",
   "metadata": {},
   "outputs": [],
   "source": [
    "import pandas as pd\n",
    "import numpy as np"
   ]
  },
  {
   "cell_type": "code",
   "execution_count": 5,
   "id": "0e6089f1",
   "metadata": {},
   "outputs": [
    {
     "name": "stdout",
     "output_type": "stream",
     "text": [
      "Arquivos de anotação carregados com sucesso.\n",
      "Total de exemplos anotados manualmente consolidados: 1001\n"
     ]
    }
   ],
   "source": [
    "# --- 1. CARREGAR E CONSOLIDAR TODOS OS DADOS ANOTADOS MANUALMENTE ---\n",
    "\n",
    "# Caminhos para todos os arquivos que você anotou\n",
    "path_seed_set = '/Users/giossaurus/Developer/leia_tcc/data/processed/seed_set_anotado.csv'\n",
    "path_cycle1 = '/Users/giossaurus/Developer/leia_tcc/data/processed/active_learning_cycle1.csv'\n",
    "path_cycle2 = '/Users/giossaurus/Developer/leia_tcc/data/processed/active_learning_cycle2.csv'\n",
    "path_lote_final = '/Users/giossaurus/Developer/leia_tcc/data/processed/anotacao_maior_final.csv'\n",
    "\n",
    "# Carregar todos os dataframes\n",
    "try:\n",
    "    df_seed = pd.read_csv(path_seed_set)\n",
    "    df_c1 = pd.read_csv(path_cycle1)\n",
    "    df_c2 = pd.read_csv(path_cycle2)\n",
    "    df_final = pd.read_csv(path_lote_final)\n",
    "    print(\"Arquivos de anotação carregados com sucesso.\")\n",
    "except FileNotFoundError as e:\n",
    "    print(f\"Erro: Arquivo não encontrado. Verifique o nome do arquivo: {e.filename}\")\n",
    "    # Se der erro, interrompa ou ajuste os nomes dos arquivos conforme necessário\n",
    "    raise e\n",
    "\n",
    "# Juntar todos em um único dataframe\n",
    "df_full_manual = pd.concat([df_seed, df_c1, df_c2, df_final], ignore_index=True)\n",
    "df_full_manual.drop_duplicates(subset=['question_id'], inplace=True)\n",
    "\n",
    "print(f\"Total de exemplos anotados manualmente consolidados: {len(df_full_manual)}\")"
   ]
  },
  {
   "cell_type": "code",
   "execution_count": 8,
   "id": "8ef6aee1",
   "metadata": {},
   "outputs": [
    {
     "name": "stderr",
     "output_type": "stream",
     "text": [
      "/var/folders/k4/x1x0j4qs0svb48fpvhhvkmbh0000gn/T/ipykernel_80538/1188554261.py:10: FutureWarning: DataFrameGroupBy.apply operated on the grouping columns. This behavior is deprecated, and in a future version of pandas the grouping columns will be excluded from the operation. Either pass `include_groups=False` to exclude the groupings or explicitly select the grouping columns after groupby to silence this warning.\n",
      "  df_sample_generation = df_filtered.groupby('intent_choice', group_keys=False).apply(\n"
     ]
    }
   ],
   "source": [
    "# --- 2. SELECIONAR UMA AMOSTRA ESTRATIFICADA DE 150 EXEMPLOS ---\n",
    "\n",
    "# Garantir que não temos classes com menos de 2 exemplos para a estratificação\n",
    "value_counts = df_full_manual['intent_choice'].value_counts()\n",
    "to_keep = value_counts[value_counts >= 2].index\n",
    "df_filtered = df_full_manual[df_full_manual['intent_choice'].isin(to_keep)]\n",
    "\n",
    "# Amostragem estratificada por intenção para manter a proporção\n",
    "N_SAMPLES = 150\n",
    "df_sample_generation = df_filtered.groupby('intent_choice', group_keys=False).apply(\n",
    "    lambda x: x.sample(int(np.ceil(len(x)/len(df_filtered) * N_SAMPLES)), random_state=42)\n",
    ")"
   ]
  },
  {
   "cell_type": "code",
   "execution_count": 12,
   "id": "77c7fb97",
   "metadata": {},
   "outputs": [
    {
     "name": "stdout",
     "output_type": "stream",
     "text": [
      "\n",
      "Arquivo de amostragem criado com 152 exemplos.\n",
      "Distribuição da amostra por intenção:\n",
      "intent_choice\n",
      "Análise de Exemplo    60\n",
      "Procedimental         42\n",
      "Conceitual            40\n",
      "Comparativo           10\n",
      "Name: count, dtype: int64\n",
      "\n",
      "Próximo passo: Abra o arquivo em uma planilha e comece a preencher a coluna 'resposta_ideal'.\n"
     ]
    }
   ],
   "source": [
    "# --- 3. SALVAR O ARQUIVO FINAL PARA O TRABALHO DE AUTORIA ---\n",
    "\n",
    "# Manter apenas as colunas úteis e adicionar a coluna para sua escrita\n",
    "df_to_author = df_sample_generation[['question_id', 'question', 'intent_choice', 'disciplina']].copy()\n",
    "df_to_author['resposta_ideal'] = '' # Adicionar coluna vazia\n",
    "\n",
    "df_to_author.to_csv('/Users/giossaurus/Developer/leia_tcc/data/processed/dataset_para_gerar_perguntas_respostas.csv', index=False)\n",
    "\n",
    "print(f\"\\nArquivo de amostragem criado com {len(df_to_author)} exemplos.\")\n",
    "print(\"Distribuição da amostra por intenção:\")\n",
    "print(df_to_author['intent_choice'].value_counts())\n",
    "print(\"\\nPróximo passo: Abra o arquivo em uma planilha e comece a preencher a coluna 'resposta_ideal'.\")"
   ]
  }
 ],
 "metadata": {
  "kernelspec": {
   "display_name": "torch-mps",
   "language": "python",
   "name": "python3"
  },
  "language_info": {
   "codemirror_mode": {
    "name": "ipython",
    "version": 3
   },
   "file_extension": ".py",
   "mimetype": "text/x-python",
   "name": "python",
   "nbconvert_exporter": "python",
   "pygments_lexer": "ipython3",
   "version": "3.10.18"
  }
 },
 "nbformat": 4,
 "nbformat_minor": 5
}
