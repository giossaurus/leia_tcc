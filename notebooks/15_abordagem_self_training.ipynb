{
 "cells": [
  {
   "cell_type": "code",
   "execution_count": 1,
   "id": "6d4a157d",
   "metadata": {},
   "outputs": [],
   "source": [
    "import pandas as pd\n",
    "import torch\n",
    "import numpy as np\n",
    "from datasets import Dataset\n",
    "from transformers import AutoTokenizer, AutoModelForSequenceClassification, Trainer"
   ]
  },
  {
   "cell_type": "code",
   "execution_count": 2,
   "id": "4999cfa0",
   "metadata": {},
   "outputs": [],
   "source": [
    "# --- 1. CARREGAR O NOSSO MELHOR MODELO (v2 do Active Learning) ---\n",
    "model_path = \"/Users/giossaurus/Developer/leia_tcc/models/leia_classifier_v2_final\"\n",
    "model = AutoModelForSequenceClassification.from_pretrained(model_path)\n",
    "tokenizer = AutoTokenizer.from_pretrained(model_path)"
   ]
  },
  {
   "cell_type": "code",
   "execution_count": 3,
   "id": "e22f55ab",
   "metadata": {},
   "outputs": [
    {
     "name": "stdout",
     "output_type": "stream",
     "text": [
      "Encontrados 7157 exemplos não rotulados para a Pseudo-Rotulagem.\n"
     ]
    }
   ],
   "source": [
    "# --- 2. CARREGAR TODOS OS DADOS NÃO ROTULADOS ---\n",
    "# Carregar o dataset completo e os IDs já anotados manualmente\n",
    "df_full = pd.read_csv('/Users/giossaurus/Developer/leia_tcc/data/interim/simulados_enem_completo.csv')\n",
    "df_annotated = pd.read_csv('/Users/giossaurus/Developer/leia_tcc/data/processed/seed_set_anotado.csv') # Usando o seed set como base de já anotados\n",
    "\n",
    "# Filtrar para obter apenas os dados que AINDA NÃO foram anotados\n",
    "unlabeled_df = df_full[~df_full['question_id'].isin(df_annotated['question_id'])].copy()\n",
    "unlabeled_df = unlabeled_df.rename(columns={'question': 'text'})\n",
    "\n",
    "print(f\"Encontrados {len(unlabeled_df)} exemplos não rotulados para a Pseudo-Rotulagem.\")\n",
    "unlabeled_dataset = Dataset.from_pandas(unlabeled_df)"
   ]
  },
  {
   "cell_type": "code",
   "execution_count": 4,
   "id": "7605ec9d",
   "metadata": {},
   "outputs": [
    {
     "data": {
      "application/vnd.jupyter.widget-view+json": {
       "model_id": "71b729ffb08c4b498bd9b7347f6b2dee",
       "version_major": 2,
       "version_minor": 0
      },
      "text/plain": [
       "Map:   0%|          | 0/7157 [00:00<?, ? examples/s]"
      ]
     },
     "metadata": {},
     "output_type": "display_data"
    },
    {
     "name": "stderr",
     "output_type": "stream",
     "text": [
      "/opt/homebrew/Caskroom/miniforge/base/envs/torch-mps/lib/python3.10/site-packages/torch/utils/data/dataloader.py:684: UserWarning: 'pin_memory' argument is set as true but not supported on MPS now, then device pinned memory won't be used.\n",
      "  warnings.warn(warn_msg)\n"
     ]
    },
    {
     "data": {
      "text/html": [],
      "text/plain": [
       "<IPython.core.display.HTML object>"
      ]
     },
     "metadata": {},
     "output_type": "display_data"
    }
   ],
   "source": [
    "# --- 3. FAZER PREDIÇÕES E FILTRAR POR CONFIANÇA ---\n",
    "# Tokenizar os dados não rotulados\n",
    "def tokenize_function(examples):\n",
    "    return tokenizer(examples[\"text\"], padding=\"max_length\", truncation=True, max_length=512)\n",
    "\n",
    "tokenized_unlabeled_dataset = unlabeled_dataset.map(tokenize_function, batched=True)\n",
    "\n",
    "# Criar um 'Trainer' apenas para predições\n",
    "trainer = Trainer(model=model)\n",
    "\n",
    "# Obter as predições (logits)\n",
    "predictions = trainer.predict(tokenized_unlabeled_dataset)\n",
    "logits = predictions.predictions\n",
    "\n",
    "# Converter logits para probabilidades\n",
    "probabilities = torch.nn.functional.softmax(torch.from_numpy(logits), dim=-1).numpy()\n",
    "\n",
    "# Obter a confiança (probabilidade máxima) e a classe prevista para cada exemplo\n",
    "confidence = np.max(probabilities, axis=1)\n",
    "predicted_class_ids = np.argmax(probabilities, axis=1)\n",
    "\n",
    "# Adicionar essa informação ao nosso dataframe\n",
    "unlabeled_df['pseudo_label_id'] = predicted_class_ids\n",
    "unlabeled_df['confidence'] = confidence\n",
    "\n",
    "# Definir o nosso ponto de corte de confiança\n",
    "CONFIDENCE_THRESHOLD = 0.90\n",
    "\n",
    "# Filtrar o dataframe para manter apenas as predições de alta confiança\n",
    "df_pseudo_labeled_train = unlabeled_df[unlabeled_df['confidence'] > CONFIDENCE_THRESHOLD].copy()\n",
    "\n",
    "# Mapear os IDs de volta para os nomes das classes para análise\n",
    "id2label = model.config.id2label\n",
    "df_pseudo_labeled_train['pseudo_label'] = df_pseudo_labeled_train['pseudo_label_id'].map(id2label)"
   ]
  },
  {
   "cell_type": "code",
   "execution_count": 5,
   "id": "6a242749",
   "metadata": {},
   "outputs": [
    {
     "name": "stdout",
     "output_type": "stream",
     "text": [
      "\n",
      "Conseguimos gerar 0 pseudo-rótulos com confiança > 90.0%.\n",
      "\n",
      "Distribuição dos pseudo-rótulos:\n",
      "Series([], Name: count, dtype: int64)\n",
      "\n",
      "Arquivo com o novo dataset de treino salvo em '/Users/giossaurus/Developer/leia_tcc/data/processed/pseudo_labeled_train_set.csv'\n"
     ]
    }
   ],
   "source": [
    "# --- 4. ANALISAR E SALVAR O NOVO DATASET DE TREINO ---\n",
    "print(f\"\\nConseguimos gerar {len(df_pseudo_labeled_train)} pseudo-rótulos com confiança > {CONFIDENCE_THRESHOLD*100}%.\")\n",
    "print(\"\\nDistribuição dos pseudo-rótulos:\")\n",
    "print(df_pseudo_labeled_train['pseudo_label'].value_counts())\n",
    "\n",
    "# Salvar este dataset para a próxima etapa de treinamento\n",
    "df_pseudo_labeled_train.to_csv('/Users/giossaurus/Developer/leia_tcc/data/processed/pseudo_labeled_train_set.csv', index=False)\n",
    "print(\"\\nArquivo com o novo dataset de treino salvo em '/Users/giossaurus/Developer/leia_tcc/data/processed/pseudo_labeled_train_set.csv'\")"
   ]
  }
 ],
 "metadata": {
  "kernelspec": {
   "display_name": "torch-mps",
   "language": "python",
   "name": "python3"
  },
  "language_info": {
   "codemirror_mode": {
    "name": "ipython",
    "version": 3
   },
   "file_extension": ".py",
   "mimetype": "text/x-python",
   "name": "python",
   "nbconvert_exporter": "python",
   "pygments_lexer": "ipython3",
   "version": "3.10.18"
  }
 },
 "nbformat": 4,
 "nbformat_minor": 5
}
