{
 "cells": [
  {
   "cell_type": "markdown",
   "id": "0faff142",
   "metadata": {
    "vscode": {
     "languageId": "plaintext"
    }
   },
   "source": [
    "### Calculando a Amostra para o \"Seed Set\":\n",
    "\n",
    "Para manter a consistência, vamos estratificar novamente dentro da nossa amostra de 1.000 para selecionar os 200.\n",
    "    - Ciências da Natureza: 200 * 0.279 = 56 exemplos\n",
    "    - Ciências Humanas: 200 * 0.265 = 53 exemplos\n",
    "    - Linguagens e Códigos: 200 * 0.236 = 47 exemplos\n",
    "    - Matemática: 200 * 0.221 = 44 exemplos\n",
    "    Total: 200 exemplos."
   ]
  },
  {
   "cell_type": "code",
   "execution_count": 1,
   "id": "35bb3c9f",
   "metadata": {},
   "outputs": [],
   "source": [
    "import pandas as pd"
   ]
  },
  {
   "cell_type": "code",
   "execution_count": 3,
   "id": "ca901002",
   "metadata": {},
   "outputs": [],
   "source": [
    "# Carregar a amostra de trabalho que acabamos de criar\n",
    "working_set_df = pd.read_csv('/Users/giossaurus/Developer/leia_tcc/data/processed/amostra_trabalho_1000.csv')"
   ]
  },
  {
   "cell_type": "code",
   "execution_count": 4,
   "id": "ad429420",
   "metadata": {},
   "outputs": [],
   "source": [
    "# Definir o número de amostras para o \"Seed Set\" de 200\n",
    "seed_set_samples = {\n",
    "    'Ciências da Natureza': 56,\n",
    "    'Ciências Humanas': 53,\n",
    "    'Linguagens e Códigos': 47,\n",
    "    'Matemática': 44\n",
    "}"
   ]
  },
  {
   "cell_type": "code",
   "execution_count": 5,
   "id": "14410d42",
   "metadata": {},
   "outputs": [],
   "source": [
    "# Criar a amostra estratificada para o seed set\n",
    "seed_sampled_dfs = []\n",
    "for subject, n_samples in seed_set_samples.items():\n",
    "    subject_df = working_set_df[working_set_df['disciplina'] == subject]\n",
    "    seed_sampled_dfs.append(subject_df.sample(n=n_samples, random_state=42))"
   ]
  },
  {
   "cell_type": "code",
   "execution_count": 6,
   "id": "7d21682f",
   "metadata": {},
   "outputs": [],
   "source": [
    "# Concatenar e embaralhar o dataframe final\n",
    "seed_set_df = pd.concat(seed_sampled_dfs)\n",
    "seed_set_df = seed_set_df.sample(frac=1, random_state=42).reset_index(drop=True)"
   ]
  },
  {
   "cell_type": "code",
   "execution_count": 7,
   "id": "7fb28d21",
   "metadata": {},
   "outputs": [
    {
     "name": "stdout",
     "output_type": "stream",
     "text": [
      "\n",
      "'Seed set' com 200 exemplos criado com sucesso!\n",
      "Arquivo salvo em com sucesso\n"
     ]
    }
   ],
   "source": [
    "# Salvar o arquivo que será importado no Label Studio\n",
    "seed_set_df.to_csv('/Users/giossaurus/Developer/leia_tcc/data/processed/seed_set_para_anotacao.csv', index=False)\n",
    "\n",
    "print(\"\\n'Seed set' com 200 exemplos criado com sucesso!\")\n",
    "print(f\"Arquivo salvo em com sucesso\")"
   ]
  }
 ],
 "metadata": {
  "kernelspec": {
   "display_name": "torch-mps",
   "language": "python",
   "name": "python3"
  },
  "language_info": {
   "codemirror_mode": {
    "name": "ipython",
    "version": 3
   },
   "file_extension": ".py",
   "mimetype": "text/x-python",
   "name": "python",
   "nbconvert_exporter": "python",
   "pygments_lexer": "ipython3",
   "version": "3.10.18"
  }
 },
 "nbformat": 4,
 "nbformat_minor": 5
}
