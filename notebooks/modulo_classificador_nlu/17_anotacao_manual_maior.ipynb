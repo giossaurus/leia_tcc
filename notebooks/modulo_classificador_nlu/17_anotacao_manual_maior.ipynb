{
 "cells": [
  {
   "cell_type": "code",
   "execution_count": 1,
   "id": "05ee3954",
   "metadata": {},
   "outputs": [],
   "source": [
    "import pandas as pd\n",
    "\n",
    "# --- 1. DEFINIR OS CAMINHOS DOS ARQUIVOS ---\n",
    "\n",
    "# O nosso universo de trabalho\n",
    "path_working_set = '/Users/giossaurus/Developer/leia_tcc/data/processed/amostra_trabalho_1000.csv'\n",
    "\n",
    "# Arquivos contendo os exemplos que VOCÊ JÁ ANOTOU\n",
    "path_seed_set = '/Users/giossaurus/Developer/leia_tcc/data/processed/seed_set_anotado.csv'\n",
    "path_cycle1 = '/Users/giossaurus/Developer/leia_tcc/data/processed/active_learning_cycle1.csv'\n",
    "path_cycle2 = '/Users/giossaurus/Developer/leia_tcc/data/processed/active_learning_cycle2.csv' # Nome corrigido\n",
    "\n",
    "# O nome do arquivo final que vamos gerar\n",
    "path_output = '/Users/giossaurus/Developer/leia_tcc/data/processed/lote_final_para_anotacao.csv'"
   ]
  },
  {
   "cell_type": "code",
   "execution_count": 2,
   "id": "f9254e54",
   "metadata": {},
   "outputs": [
    {
     "name": "stdout",
     "output_type": "stream",
     "text": [
      "Arquivos carregados com sucesso.\n"
     ]
    }
   ],
   "source": [
    "# --- 2. CARREGAR OS DADOS ---\n",
    "\n",
    "try:\n",
    "    df_working_set = pd.read_csv(path_working_set)\n",
    "    df_seed = pd.read_csv(path_seed_set)\n",
    "    df_c1 = pd.read_csv(path_cycle1)\n",
    "    df_c2 = pd.read_csv(path_cycle2)\n",
    "    \n",
    "    print(\"Arquivos carregados com sucesso.\")\n",
    "    \n",
    "except FileNotFoundError as e:\n",
    "    print(f\"Erro: Arquivo não encontrado. Verifique o nome e o caminho do arquivo: {e.fileName}\")\n",
    "    # Interrompe a execução se um arquivo não for encontrado\n",
    "    raise e"
   ]
  },
  {
   "cell_type": "code",
   "execution_count": 3,
   "id": "9daaf08f",
   "metadata": {},
   "outputs": [
    {
     "name": "stdout",
     "output_type": "stream",
     "text": [
      "\n",
      "Total de IDs únicos já anotados: 300\n"
     ]
    }
   ],
   "source": [
    "# --- 3. CONSOLIDAR OS IDs JÁ ANOTADOS ---\n",
    "\n",
    "# Juntar os 'question_id' de todos os arquivos que já foram anotados\n",
    "annotated_ids = pd.concat([\n",
    "    df_seed['question_id'],\n",
    "    df_c1['question_id'],\n",
    "    df_c2['question_id']\n",
    "]).unique()\n",
    "\n",
    "print(f\"\\nTotal de IDs únicos já anotados: {len(annotated_ids)}\")"
   ]
  },
  {
   "cell_type": "code",
   "execution_count": 4,
   "id": "d5bcea44",
   "metadata": {},
   "outputs": [
    {
     "name": "stdout",
     "output_type": "stream",
     "text": [
      "Tamanho do lote final para anotação: 701 exemplos\n"
     ]
    }
   ],
   "source": [
    "# --- 4. ISOLAR OS EXEMPLOS NÃO ANOTADOS ---\n",
    "\n",
    "# Filtrar o dataframe de trabalho para manter apenas os IDs que NÃO ESTÃO na lista de já anotados\n",
    "df_final_batch = df_working_set[~df_working_set['question_id'].isin(annotated_ids)].copy()\n",
    "\n",
    "print(f\"Tamanho do lote final para anotação: {len(df_final_batch)} exemplos\")"
   ]
  },
  {
   "cell_type": "code",
   "execution_count": 5,
   "id": "ee15429a",
   "metadata": {},
   "outputs": [
    {
     "name": "stdout",
     "output_type": "stream",
     "text": [
      "\n",
      "Arquivo final para anotação salvo com sucesso em: '/Users/giossaurus/Developer/leia_tcc/data/processed/lote_final_para_anotacao.csv'\n",
      "Próximo passo: Importar este arquivo no Label Studio e iniciar a anotação manual.\n"
     ]
    }
   ],
   "source": [
    "# --- 5. SALVAR O LOTE FINAL ---\n",
    "\n",
    "# Salvar o resultado em um novo arquivo CSV\n",
    "df_final_batch.to_csv(path_output, index=False)\n",
    "\n",
    "print(f\"\\nArquivo final para anotação salvo com sucesso em: '{path_output}'\")\n",
    "print(\"Próximo passo: Importar este arquivo no Label Studio e iniciar a anotação manual.\")"
   ]
  }
 ],
 "metadata": {
  "kernelspec": {
   "display_name": "torch-mps",
   "language": "python",
   "name": "python3"
  },
  "language_info": {
   "codemirror_mode": {
    "name": "ipython",
    "version": 3
   },
   "file_extension": ".py",
   "mimetype": "text/x-python",
   "name": "python",
   "nbconvert_exporter": "python",
   "pygments_lexer": "ipython3",
   "version": "3.10.18"
  }
 },
 "nbformat": 4,
 "nbformat_minor": 5
}
