{
 "cells": [
  {
   "cell_type": "markdown",
   "id": "3c057208",
   "metadata": {},
   "source": [
    "### Visando melhorar a eficiência do treinamento e anotação para o tempo hábil do projeto, decidimos focar em uma amostra estratificada do dataset completo. Esta abordagem nos permite capturar a diversidade de perguntas e tópicos presentes no dataset original, garantindo que o modelo seja exposto a uma variedade representativa de exemplos sem a necessidade de processar o conjunto completo.\n",
    "\n",
    "Usando as mesmas proporções da análise exploratória, aplicamos ao nosso novo alvo de 1.000:\n",
    "    - Ciências da Natureza: 1.000 * 0.279 = 279 exemplos\n",
    "    - Ciências Humanas: 1.000 * 0.265 = 265 exemplos\n",
    "    - Linguagens e Códigos: 1.000 * 0.236 = 236 exemplos\n",
    "    - Matemática: 1.000 * 0.221 = 221 exemplos\n",
    "\n",
    "    Total: 1.001 exemplos."
   ]
  },
  {
   "cell_type": "code",
   "execution_count": 1,
   "id": "aec57b98",
   "metadata": {},
   "outputs": [],
   "source": [
    "import pandas as pd"
   ]
  },
  {
   "cell_type": "code",
   "execution_count": 2,
   "id": "fd30f2f6",
   "metadata": {},
   "outputs": [],
   "source": [
    "# Carregar o dataset completo\n",
    "df = pd.read_csv('/Users/giossaurus/Developer/leia_tcc/data/interim/simulados_enem_completo.csv')"
   ]
  },
  {
   "cell_type": "code",
   "execution_count": 3,
   "id": "114ba67a",
   "metadata": {},
   "outputs": [],
   "source": [
    "# Definir o número de amostras para o universo de trabalho de 1.000\n",
    "working_set_samples = {\n",
    "    'Ciências da Natureza': 279,\n",
    "    'Ciências Humanas': 265,\n",
    "    'Linguagens e Códigos': 236,\n",
    "    'Matemática': 221\n",
    "}"
   ]
  },
  {
   "cell_type": "code",
   "execution_count": 5,
   "id": "4caed348",
   "metadata": {},
   "outputs": [],
   "source": [
    "# Criar a amostra estratificada\n",
    "df.rename(columns={'dataset': 'disciplina'}, inplace=True)\n",
    "\n",
    "sampled_dfs = []\n",
    "for subject, n_samples in working_set_samples.items():\n",
    "    subject_df = df[df['disciplina'] == subject]\n",
    "    sampled_dfs.append(subject_df.sample(n=n_samples, random_state=42))"
   ]
  },
  {
   "cell_type": "code",
   "execution_count": 6,
   "id": "79fe3dac",
   "metadata": {},
   "outputs": [],
   "source": [
    "# Concatenar e embaralhar o dataframe final\n",
    "working_set_df = pd.concat(sampled_dfs)\n",
    "working_set_df = working_set_df.sample(frac=1, random_state=42).reset_index(drop=True)"
   ]
  },
  {
   "cell_type": "code",
   "execution_count": 8,
   "id": "7fb54f8c",
   "metadata": {},
   "outputs": [
    {
     "name": "stdout",
     "output_type": "stream",
     "text": [
      "Amostra de trabalho com 1.001 exemplos criada com sucesso!\n",
      "Arquivo salvo com sucesso\n"
     ]
    }
   ],
   "source": [
    "# Salvar o arquivo do universo de trabalho\n",
    "working_set_df.to_csv('/Users/giossaurus/Developer/leia_tcc/data/processed/amostra_trabalho_1000.csv', index=False)\n",
    "\n",
    "print(\"Amostra de trabalho com 1.001 exemplos criada com sucesso!\")\n",
    "print(f\"Arquivo salvo com sucesso\")\n"
   ]
  }
 ],
 "metadata": {
  "kernelspec": {
   "display_name": "torch-mps",
   "language": "python",
   "name": "python3"
  },
  "language_info": {
   "codemirror_mode": {
    "name": "ipython",
    "version": 3
   },
   "file_extension": ".py",
   "mimetype": "text/x-python",
   "name": "python",
   "nbconvert_exporter": "python",
   "pygments_lexer": "ipython3",
   "version": "3.10.18"
  }
 },
 "nbformat": 4,
 "nbformat_minor": 5
}
