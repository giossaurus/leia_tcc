{
 "cells": [
  {
   "cell_type": "code",
   "execution_count": 1,
   "id": "a61537f3",
   "metadata": {},
   "outputs": [],
   "source": [
    "import pandas as pd\n",
    "from datasets import Dataset\n",
    "from transformers import (\n",
    "    AutoTokenizer,\n",
    "    AutoModelForSequenceClassification,\n",
    "    TrainingArguments,\n",
    "    Trainer\n",
    ")\n",
    "import numpy as np\n",
    "import evaluate"
   ]
  },
  {
   "cell_type": "code",
   "execution_count": 2,
   "id": "36367fe9",
   "metadata": {},
   "outputs": [
    {
     "name": "stdout",
     "output_type": "stream",
     "text": [
      "Carregados 200 exemplos do Seed Set.\n",
      "Carregados 50 exemplos do Ciclo 1.\n",
      "Carregados 50 novos exemplos do Ciclo 2.\n"
     ]
    }
   ],
   "source": [
    "# --- 1. CARREGAR TODOS OS DATASETS ANOTADOS ATÉ AGORA ---\n",
    "\n",
    "path_seed_set = '/Users/giossaurus/Developer/leia_tcc/data/processed/seed_set_anotado.csv'\n",
    "path_cycle1_annotations = '/Users/giossaurus/Developer/leia_tcc/data/processed/active_learning_cycle1.csv'\n",
    "path_cycle2_annotations = '/Users/giossaurus/Developer/leia_tcc/data/processed/active_learning_cycle2.csv' # <-- NOVO ARQUIVO\n",
    "path_final_test_set = '/Users/giossaurus/Developer/leia_tcc/data/processed/final_test_set.csv'\n",
    "\n",
    "df_seed_anotado = pd.read_csv(path_seed_set)\n",
    "df_cycle1_anotado = pd.read_csv(path_cycle1_annotations)\n",
    "df_cycle2_anotado = pd.read_csv(path_cycle2_annotations) # <-- NOVO ARQUIVO\n",
    "df_final_test = pd.read_csv(path_final_test_set)\n",
    "\n",
    "print(f\"Carregados {len(df_seed_anotado)} exemplos do Seed Set.\")\n",
    "print(f\"Carregados {len(df_cycle1_anotado)} exemplos do Ciclo 1.\")\n",
    "print(f\"Carregados {len(df_cycle2_anotado)} novos exemplos do Ciclo 2.\") # <-- NOVO"
   ]
  },
  {
   "cell_type": "code",
   "execution_count": 3,
   "id": "87af5555",
   "metadata": {},
   "outputs": [
    {
     "data": {
      "application/vnd.jupyter.widget-view+json": {
       "model_id": "44198ecc48264ebbb96bd863776b0a7f",
       "version_major": 2,
       "version_minor": 0
      },
      "text/plain": [
       "Casting the dataset:   0%|          | 0/260 [00:00<?, ? examples/s]"
      ]
     },
     "metadata": {},
     "output_type": "display_data"
    },
    {
     "name": "stdout",
     "output_type": "stream",
     "text": [
      "\n",
      "--- NOVO DATASET DE TREINO CRIADO (CICLO 3) ---\n",
      "Tamanho total para treino/validação: 260 exemplos\n",
      "-> Para este Ciclo 3: Treino = 208, Validação = 52\n"
     ]
    }
   ],
   "source": [
    "# --- 2. ENRIQUECER O CONJUNTO DE TREINO ---\n",
    "\n",
    "# Definir as colunas essenciais para padronização\n",
    "colunas_essenciais = ['question_id', 'question', 'intent_choice', 'disciplina']\n",
    "\n",
    "# Padronizar todos os dataframes\n",
    "df_seed_padronizado = df_seed_anotado[colunas_essenciais]\n",
    "df_cycle1_padronizado = df_cycle1_anotado[colunas_essenciais]\n",
    "df_cycle2_padronizado = df_cycle2_anotado[colunas_essenciais] # <-- NOVO\n",
    "\n",
    "# Isolar a base de treino original (sem o test set)\n",
    "df_seed_train_base = df_seed_padronizado[~df_seed_padronizado['question_id'].isin(df_final_test['question_id'])]\n",
    "\n",
    "# Combinar a base de treino com TODAS as novas anotações\n",
    "df_new_train = pd.concat([\n",
    "    df_seed_train_base, \n",
    "    df_cycle1_padronizado, \n",
    "    df_cycle2_padronizado # <-- NOVO\n",
    "], ignore_index=True)\n",
    "\n",
    "# Renomear colunas\n",
    "df_new_train = df_new_train.rename(columns={'question': 'text', 'intent_choice': 'label'})\n",
    "\n",
    "# Mapear rótulos para IDs (usando a lista completa de rótulos do seed set)\n",
    "labels = df_seed_anotado['intent_choice'].unique().tolist()\n",
    "id2label = {i: label for i, label in enumerate(labels)}\n",
    "label2id = {label: i for i, label in enumerate(labels)}\n",
    "\n",
    "df_new_train['label'] = df_new_train['label'].map(label2id)\n",
    "df_new_train.dropna(subset=['label'], inplace=True)\n",
    "df_new_train['label'] = df_new_train['label'].astype(int)\n",
    "\n",
    "# Converter para Dataset do Hugging Face\n",
    "from datasets import ClassLabel\n",
    "new_train_dataset_full = Dataset.from_pandas(df_new_train)\n",
    "\n",
    "# Converter a coluna label para ClassLabel para permitir estratificação\n",
    "features = new_train_dataset_full.features.copy()\n",
    "features['label'] = ClassLabel(names=labels)\n",
    "new_train_dataset_full = new_train_dataset_full.cast(features)\n",
    "\n",
    "# Dividir em treino e validação\n",
    "train_val_split = new_train_dataset_full.train_test_split(test_size=0.2, stratify_by_column=\"label\", seed=42)\n",
    "train_dataset = train_val_split[\"train\"]\n",
    "eval_dataset = train_val_split[\"test\"]\n",
    "\n",
    "print(f\"\\n--- NOVO DATASET DE TREINO CRIADO (CICLO 3) ---\")\n",
    "print(f\"Tamanho total para treino/validação: {len(new_train_dataset_full)} exemplos\")\n",
    "print(f\"-> Para este Ciclo 3: Treino = {len(train_dataset)}, Validação = {len(eval_dataset)}\")"
   ]
  },
  {
   "cell_type": "code",
   "execution_count": 4,
   "id": "7954451f",
   "metadata": {},
   "outputs": [
    {
     "data": {
      "application/vnd.jupyter.widget-view+json": {
       "model_id": "291e61a68cca4918b555527b571b3dc6",
       "version_major": 2,
       "version_minor": 0
      },
      "text/plain": [
       "Map:   0%|          | 0/208 [00:00<?, ? examples/s]"
      ]
     },
     "metadata": {},
     "output_type": "display_data"
    },
    {
     "data": {
      "application/vnd.jupyter.widget-view+json": {
       "model_id": "2739c96b91e640fe9812fa2e1b4f9952",
       "version_major": 2,
       "version_minor": 0
      },
      "text/plain": [
       "Map:   0%|          | 0/52 [00:00<?, ? examples/s]"
      ]
     },
     "metadata": {},
     "output_type": "display_data"
    },
    {
     "name": "stderr",
     "output_type": "stream",
     "text": [
      "Some weights of DistilBertForSequenceClassification were not initialized from the model checkpoint at distilbert-base-uncased and are newly initialized: ['classifier.bias', 'classifier.weight', 'pre_classifier.bias', 'pre_classifier.weight']\n",
      "You should probably TRAIN this model on a down-stream task to be able to use it for predictions and inference.\n"
     ]
    }
   ],
   "source": [
    "# --- 3. PREPARAR O MODELO E TOKENIZADOR ---\n",
    "model_checkpoint = \"distilbert-base-uncased\"\n",
    "tokenizer = AutoTokenizer.from_pretrained(model_checkpoint)\n",
    "\n",
    "def tokenize_function(examples):\n",
    "    return tokenizer(examples[\"text\"], padding=\"max_length\", truncation=True, max_length=512)\n",
    "\n",
    "tokenized_train_dataset = train_dataset.map(tokenize_function, batched=True)\n",
    "tokenized_eval_dataset = eval_dataset.map(tokenize_function, batched=True)\n",
    "\n",
    "model = AutoModelForSequenceClassification.from_pretrained(\n",
    "    model_checkpoint, \n",
    "    num_labels=len(labels), \n",
    "    id2label=id2label, \n",
    "    label2id=label2id\n",
    ")"
   ]
  },
  {
   "cell_type": "code",
   "execution_count": 5,
   "id": "50e52526",
   "metadata": {},
   "outputs": [
    {
     "name": "stderr",
     "output_type": "stream",
     "text": [
      "/var/folders/k4/x1x0j4qs0svb48fpvhhvkmbh0000gn/T/ipykernel_86533/473236010.py:25: FutureWarning: `tokenizer` is deprecated and will be removed in version 5.0.0 for `Trainer.__init__`. Use `processing_class` instead.\n",
      "  trainer = Trainer(\n"
     ]
    },
    {
     "name": "stdout",
     "output_type": "stream",
     "text": [
      "\n",
      "--- INICIANDO TREINAMENTO DO MODELO v3 ---\n"
     ]
    },
    {
     "name": "stderr",
     "output_type": "stream",
     "text": [
      "/opt/homebrew/Caskroom/miniforge/base/envs/torch-mps/lib/python3.10/site-packages/torch/utils/data/dataloader.py:684: UserWarning: 'pin_memory' argument is set as true but not supported on MPS now, then device pinned memory won't be used.\n",
      "  warnings.warn(warn_msg)\n"
     ]
    },
    {
     "data": {
      "text/html": [
       "\n",
       "    <div>\n",
       "      \n",
       "      <progress value='390' max='390' style='width:300px; height:20px; vertical-align: middle;'></progress>\n",
       "      [390/390 03:58, Epoch 15/15]\n",
       "    </div>\n",
       "    <table border=\"1\" class=\"dataframe\">\n",
       "  <thead>\n",
       " <tr style=\"text-align: left;\">\n",
       "      <th>Epoch</th>\n",
       "      <th>Training Loss</th>\n",
       "      <th>Validation Loss</th>\n",
       "      <th>Accuracy</th>\n",
       "      <th>F1</th>\n",
       "    </tr>\n",
       "  </thead>\n",
       "  <tbody>\n",
       "    <tr>\n",
       "      <td>1</td>\n",
       "      <td>No log</td>\n",
       "      <td>1.287632</td>\n",
       "      <td>0.384615</td>\n",
       "      <td>0.213675</td>\n",
       "    </tr>\n",
       "    <tr>\n",
       "      <td>2</td>\n",
       "      <td>No log</td>\n",
       "      <td>1.183468</td>\n",
       "      <td>0.538462</td>\n",
       "      <td>0.467313</td>\n",
       "    </tr>\n",
       "    <tr>\n",
       "      <td>3</td>\n",
       "      <td>No log</td>\n",
       "      <td>1.051529</td>\n",
       "      <td>0.576923</td>\n",
       "      <td>0.504886</td>\n",
       "    </tr>\n",
       "    <tr>\n",
       "      <td>4</td>\n",
       "      <td>No log</td>\n",
       "      <td>0.966702</td>\n",
       "      <td>0.596154</td>\n",
       "      <td>0.546154</td>\n",
       "    </tr>\n",
       "    <tr>\n",
       "      <td>5</td>\n",
       "      <td>No log</td>\n",
       "      <td>0.902479</td>\n",
       "      <td>0.673077</td>\n",
       "      <td>0.622894</td>\n",
       "    </tr>\n",
       "    <tr>\n",
       "      <td>6</td>\n",
       "      <td>No log</td>\n",
       "      <td>0.794456</td>\n",
       "      <td>0.653846</td>\n",
       "      <td>0.585953</td>\n",
       "    </tr>\n",
       "    <tr>\n",
       "      <td>7</td>\n",
       "      <td>No log</td>\n",
       "      <td>0.845255</td>\n",
       "      <td>0.653846</td>\n",
       "      <td>0.604438</td>\n",
       "    </tr>\n",
       "    <tr>\n",
       "      <td>8</td>\n",
       "      <td>No log</td>\n",
       "      <td>0.827857</td>\n",
       "      <td>0.653846</td>\n",
       "      <td>0.630446</td>\n",
       "    </tr>\n",
       "    <tr>\n",
       "      <td>9</td>\n",
       "      <td>No log</td>\n",
       "      <td>0.816359</td>\n",
       "      <td>0.653846</td>\n",
       "      <td>0.628377</td>\n",
       "    </tr>\n",
       "    <tr>\n",
       "      <td>10</td>\n",
       "      <td>No log</td>\n",
       "      <td>0.869613</td>\n",
       "      <td>0.634615</td>\n",
       "      <td>0.599934</td>\n",
       "    </tr>\n",
       "    <tr>\n",
       "      <td>11</td>\n",
       "      <td>No log</td>\n",
       "      <td>0.901052</td>\n",
       "      <td>0.653846</td>\n",
       "      <td>0.616092</td>\n",
       "    </tr>\n",
       "    <tr>\n",
       "      <td>12</td>\n",
       "      <td>No log</td>\n",
       "      <td>0.850125</td>\n",
       "      <td>0.653846</td>\n",
       "      <td>0.616317</td>\n",
       "    </tr>\n",
       "    <tr>\n",
       "      <td>13</td>\n",
       "      <td>No log</td>\n",
       "      <td>0.863804</td>\n",
       "      <td>0.673077</td>\n",
       "      <td>0.627269</td>\n",
       "    </tr>\n",
       "    <tr>\n",
       "      <td>14</td>\n",
       "      <td>No log</td>\n",
       "      <td>0.867284</td>\n",
       "      <td>0.673077</td>\n",
       "      <td>0.632978</td>\n",
       "    </tr>\n",
       "    <tr>\n",
       "      <td>15</td>\n",
       "      <td>No log</td>\n",
       "      <td>0.916236</td>\n",
       "      <td>0.673077</td>\n",
       "      <td>0.627269</td>\n",
       "    </tr>\n",
       "  </tbody>\n",
       "</table><p>"
      ],
      "text/plain": [
       "<IPython.core.display.HTML object>"
      ]
     },
     "metadata": {},
     "output_type": "display_data"
    },
    {
     "name": "stderr",
     "output_type": "stream",
     "text": [
      "/opt/homebrew/Caskroom/miniforge/base/envs/torch-mps/lib/python3.10/site-packages/torch/utils/data/dataloader.py:684: UserWarning: 'pin_memory' argument is set as true but not supported on MPS now, then device pinned memory won't be used.\n",
      "  warnings.warn(warn_msg)\n",
      "/opt/homebrew/Caskroom/miniforge/base/envs/torch-mps/lib/python3.10/site-packages/torch/utils/data/dataloader.py:684: UserWarning: 'pin_memory' argument is set as true but not supported on MPS now, then device pinned memory won't be used.\n",
      "  warnings.warn(warn_msg)\n",
      "/opt/homebrew/Caskroom/miniforge/base/envs/torch-mps/lib/python3.10/site-packages/torch/utils/data/dataloader.py:684: UserWarning: 'pin_memory' argument is set as true but not supported on MPS now, then device pinned memory won't be used.\n",
      "  warnings.warn(warn_msg)\n",
      "/opt/homebrew/Caskroom/miniforge/base/envs/torch-mps/lib/python3.10/site-packages/torch/utils/data/dataloader.py:684: UserWarning: 'pin_memory' argument is set as true but not supported on MPS now, then device pinned memory won't be used.\n",
      "  warnings.warn(warn_msg)\n",
      "/opt/homebrew/Caskroom/miniforge/base/envs/torch-mps/lib/python3.10/site-packages/torch/utils/data/dataloader.py:684: UserWarning: 'pin_memory' argument is set as true but not supported on MPS now, then device pinned memory won't be used.\n",
      "  warnings.warn(warn_msg)\n",
      "/opt/homebrew/Caskroom/miniforge/base/envs/torch-mps/lib/python3.10/site-packages/torch/utils/data/dataloader.py:684: UserWarning: 'pin_memory' argument is set as true but not supported on MPS now, then device pinned memory won't be used.\n",
      "  warnings.warn(warn_msg)\n",
      "/opt/homebrew/Caskroom/miniforge/base/envs/torch-mps/lib/python3.10/site-packages/torch/utils/data/dataloader.py:684: UserWarning: 'pin_memory' argument is set as true but not supported on MPS now, then device pinned memory won't be used.\n",
      "  warnings.warn(warn_msg)\n",
      "/opt/homebrew/Caskroom/miniforge/base/envs/torch-mps/lib/python3.10/site-packages/torch/utils/data/dataloader.py:684: UserWarning: 'pin_memory' argument is set as true but not supported on MPS now, then device pinned memory won't be used.\n",
      "  warnings.warn(warn_msg)\n",
      "/opt/homebrew/Caskroom/miniforge/base/envs/torch-mps/lib/python3.10/site-packages/torch/utils/data/dataloader.py:684: UserWarning: 'pin_memory' argument is set as true but not supported on MPS now, then device pinned memory won't be used.\n",
      "  warnings.warn(warn_msg)\n",
      "/opt/homebrew/Caskroom/miniforge/base/envs/torch-mps/lib/python3.10/site-packages/torch/utils/data/dataloader.py:684: UserWarning: 'pin_memory' argument is set as true but not supported on MPS now, then device pinned memory won't be used.\n",
      "  warnings.warn(warn_msg)\n",
      "/opt/homebrew/Caskroom/miniforge/base/envs/torch-mps/lib/python3.10/site-packages/torch/utils/data/dataloader.py:684: UserWarning: 'pin_memory' argument is set as true but not supported on MPS now, then device pinned memory won't be used.\n",
      "  warnings.warn(warn_msg)\n",
      "/opt/homebrew/Caskroom/miniforge/base/envs/torch-mps/lib/python3.10/site-packages/torch/utils/data/dataloader.py:684: UserWarning: 'pin_memory' argument is set as true but not supported on MPS now, then device pinned memory won't be used.\n",
      "  warnings.warn(warn_msg)\n",
      "/opt/homebrew/Caskroom/miniforge/base/envs/torch-mps/lib/python3.10/site-packages/torch/utils/data/dataloader.py:684: UserWarning: 'pin_memory' argument is set as true but not supported on MPS now, then device pinned memory won't be used.\n",
      "  warnings.warn(warn_msg)\n",
      "/opt/homebrew/Caskroom/miniforge/base/envs/torch-mps/lib/python3.10/site-packages/torch/utils/data/dataloader.py:684: UserWarning: 'pin_memory' argument is set as true but not supported on MPS now, then device pinned memory won't be used.\n",
      "  warnings.warn(warn_msg)\n"
     ]
    },
    {
     "name": "stdout",
     "output_type": "stream",
     "text": [
      "\n",
      "--- TREINAMENTO CONCLUÍDO ---\n",
      "Modelo v3 salvo em '/Users/giossaurus/Developer/leia_tcc/models/leia_classifier_v3_final'\n"
     ]
    }
   ],
   "source": [
    "# --- 4. CONFIGURAR E EXECUTAR O TREINAMENTO (CICLO 3) ---\n",
    "accuracy_metric = evaluate.load(\"accuracy\")\n",
    "f1_metric = evaluate.load(\"f1\")\n",
    "\n",
    "def compute_metrics(eval_pred):\n",
    "    predictions, labels = eval_pred\n",
    "    predictions = np.argmax(predictions, axis=1)\n",
    "    acc = accuracy_metric.compute(predictions=predictions, references=labels)\n",
    "    f1 = f1_metric.compute(predictions=predictions, references=labels, average=\"weighted\")\n",
    "    return {\"accuracy\": acc[\"accuracy\"], \"f1\": f1[\"f1\"]}\n",
    "\n",
    "training_args = TrainingArguments(\n",
    "    output_dir=\"/Users/giossaurus/Developer/leia_tcc/models/leia_classifier_cycle3\", # Novo diretório de output\n",
    "    eval_strategy=\"epoch\",\n",
    "    save_strategy=\"epoch\",\n",
    "    learning_rate=2e-5,\n",
    "    per_device_train_batch_size=8,\n",
    "    per_device_eval_batch_size=8,\n",
    "    num_train_epochs=15, # Manter 15 épocas\n",
    "    weight_decay=0.01,\n",
    "    load_best_model_at_end=True,\n",
    "    metric_for_best_model=\"f1\",\n",
    ")\n",
    "\n",
    "trainer = Trainer(\n",
    "    model=model,\n",
    "    args=training_args,\n",
    "    train_dataset=tokenized_train_dataset,\n",
    "    eval_dataset=tokenized_eval_dataset,\n",
    "    compute_metrics=compute_metrics,\n",
    "    tokenizer=tokenizer,\n",
    ")\n",
    "\n",
    "print(\"\\n--- INICIANDO TREINAMENTO DO MODELO v3 ---\")\n",
    "trainer.train()\n",
    "print(\"\\n--- TREINAMENTO CONCLUÍDO ---\")\n",
    "\n",
    "trainer.save_model(\"/Users/giossaurus/Developer/leia_tcc/models/leia_classifier_v3_final\")\n",
    "print(\"Modelo v3 salvo em '/Users/giossaurus/Developer/leia_tcc/models/leia_classifier_v3_final'\")"
   ]
  }
 ],
 "metadata": {
  "kernelspec": {
   "display_name": "torch-mps",
   "language": "python",
   "name": "python3"
  },
  "language_info": {
   "codemirror_mode": {
    "name": "ipython",
    "version": 3
   },
   "file_extension": ".py",
   "mimetype": "text/x-python",
   "name": "python",
   "nbconvert_exporter": "python",
   "pygments_lexer": "ipython3",
   "version": "3.10.18"
  }
 },
 "nbformat": 4,
 "nbformat_minor": 5
}
