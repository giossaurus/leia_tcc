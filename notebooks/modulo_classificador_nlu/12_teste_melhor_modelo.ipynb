{
 "cells": [
  {
   "cell_type": "code",
   "execution_count": 1,
   "id": "10979732",
   "metadata": {},
   "outputs": [],
   "source": [
    "import pandas as pd\n",
    "from datasets import Dataset\n",
    "from transformers import AutoTokenizer, AutoModelForSequenceClassification, Trainer\n",
    "import numpy as np\n",
    "import evaluate"
   ]
  },
  {
   "cell_type": "code",
   "execution_count": 2,
   "id": "eb7e4da7",
   "metadata": {},
   "outputs": [
    {
     "name": "stdout",
     "output_type": "stream",
     "text": [
      "Carregado melhor modelo de '/Users/giossaurus/Developer/leia_tcc/models/leia_classifier_v2_final'.\n",
      "Carregado conjunto de teste final com 40 exemplos.\n",
      "Labels únicos no teste: [np.int64(0), np.int64(1), np.int64(2), np.int64(3)]\n"
     ]
    }
   ],
   "source": [
    "# --- 1. CARREGAR O MELHOR MODELO E O CONJUNTO DE TESTE FINAL ---\n",
    "\n",
    "# Carregar o nosso melhor modelo (v2)\n",
    "model_path = \"/Users/giossaurus/Developer/leia_tcc/models/leia_classifier_v2_final\"\n",
    "model = AutoModelForSequenceClassification.from_pretrained(model_path)\n",
    "tokenizer = AutoTokenizer.from_pretrained(model_path)\n",
    "\n",
    "# Carregar o conjunto de teste que guardamos\n",
    "path_final_test_set = '/Users/giossaurus/Developer/leia_tcc/data/processed/final_test_set.csv'\n",
    "df_final_test = pd.read_csv(path_final_test_set)\n",
    "\n",
    "# Verificar se a coluna 'question' existe ou se já é 'text'\n",
    "if 'question' in df_final_test.columns:\n",
    "    df_final_test = df_final_test.rename(columns={'question': 'text'})\n",
    "\n",
    "# Se o label ainda estiver em formato de texto, precisamos mapear para números\n",
    "# Carregar os labels do seed set para manter consistência\n",
    "df_seed_anotado = pd.read_csv('/Users/giossaurus/Developer/leia_tcc/data/processed/seed_set_anotado.csv')\n",
    "labels = df_seed_anotado['intent_choice'].unique().tolist()\n",
    "label2id = {label: i for i, label in enumerate(labels)}\n",
    "\n",
    "# Verificar se precisa mapear labels\n",
    "if df_final_test['label'].dtype == 'object':\n",
    "    df_final_test['label'] = df_final_test['label'].map(label2id)\n",
    "\n",
    "final_test_dataset = Dataset.from_pandas(df_final_test)\n",
    "\n",
    "print(f\"Carregado melhor modelo de '{model_path}'.\")\n",
    "print(f\"Carregado conjunto de teste final com {len(final_test_dataset)} exemplos.\")\n",
    "print(f\"Labels únicos no teste: {sorted(df_final_test['label'].unique())}\")"
   ]
  },
  {
   "cell_type": "code",
   "execution_count": 3,
   "id": "b4fe9501",
   "metadata": {},
   "outputs": [
    {
     "data": {
      "application/vnd.jupyter.widget-view+json": {
       "model_id": "17424eb4a0914bfcb59417c1006f9efd",
       "version_major": 2,
       "version_minor": 0
      },
      "text/plain": [
       "Map:   0%|          | 0/40 [00:00<?, ? examples/s]"
      ]
     },
     "metadata": {},
     "output_type": "display_data"
    }
   ],
   "source": [
    "# --- 2. PREPARAR OS DADOS DE TESTE ---\n",
    "\n",
    "# Tokenizar o conjunto de teste\n",
    "def tokenize_function(examples):\n",
    "    return tokenizer(examples[\"text\"], padding=\"max_length\", truncation=True, max_length=512)\n",
    "\n",
    "tokenized_final_test_dataset = final_test_dataset.map(tokenize_function, batched=True)"
   ]
  },
  {
   "cell_type": "code",
   "execution_count": 4,
   "id": "908e6c66",
   "metadata": {},
   "outputs": [
    {
     "data": {
      "application/vnd.jupyter.widget-view+json": {
       "model_id": "904afbdaac4d4b729b1d46d59cc4bfdd",
       "version_major": 2,
       "version_minor": 0
      },
      "text/plain": [
       "Downloading builder script: 0.00B [00:00, ?B/s]"
      ]
     },
     "metadata": {},
     "output_type": "display_data"
    },
    {
     "data": {
      "application/vnd.jupyter.widget-view+json": {
       "model_id": "06dc8e9a57be4af9996cd05840e03495",
       "version_major": 2,
       "version_minor": 0
      },
      "text/plain": [
       "Downloading builder script: 0.00B [00:00, ?B/s]"
      ]
     },
     "metadata": {},
     "output_type": "display_data"
    },
    {
     "name": "stderr",
     "output_type": "stream",
     "text": [
      "/opt/homebrew/Caskroom/miniforge/base/envs/torch-mps/lib/python3.10/site-packages/torch/utils/data/dataloader.py:684: UserWarning: 'pin_memory' argument is set as true but not supported on MPS now, then device pinned memory won't be used.\n",
      "  warnings.warn(warn_msg)\n"
     ]
    },
    {
     "data": {
      "text/html": [
       "\n",
       "    <div>\n",
       "      \n",
       "      <progress value='5' max='5' style='width:300px; height:20px; vertical-align: middle;'></progress>\n",
       "      [5/5 00:00]\n",
       "    </div>\n",
       "    "
      ],
      "text/plain": [
       "<IPython.core.display.HTML object>"
      ]
     },
     "metadata": {},
     "output_type": "display_data"
    },
    {
     "name": "stdout",
     "output_type": "stream",
     "text": [
      "\n",
      "--- RESULTADOS FINAIS NO CONJUNTO DE TESTE ---\n",
      "Acurácia Final: 0.5000\n",
      "F1-Score Final (Ponderado): 0.4693\n",
      "Precisão Final (Ponderada): 0.4492\n",
      "Recall Final (Ponderado): 0.5000\n",
      "-------------------------------------------------\n"
     ]
    },
    {
     "name": "stderr",
     "output_type": "stream",
     "text": [
      "/opt/homebrew/Caskroom/miniforge/base/envs/torch-mps/lib/python3.10/site-packages/sklearn/metrics/_classification.py:1731: UndefinedMetricWarning: Precision is ill-defined and being set to 0.0 in labels with no predicted samples. Use `zero_division` parameter to control this behavior.\n",
      "  _warn_prf(average, modifier, f\"{metric.capitalize()} is\", result.shape[0])\n"
     ]
    }
   ],
   "source": [
    "# --- 3. EXECUTAR A AVALIAÇÃO FINAL ---\n",
    "\n",
    "# Carregar as métricas\n",
    "accuracy_metric = evaluate.load(\"accuracy\")\n",
    "f1_metric = evaluate.load(\"f1\")\n",
    "precision_metric = evaluate.load(\"precision\")\n",
    "recall_metric = evaluate.load(\"recall\")\n",
    "\n",
    "def compute_final_metrics(eval_pred):\n",
    "    predictions, labels = eval_pred\n",
    "    predictions = np.argmax(predictions, axis=1)\n",
    "    \n",
    "    results = {}\n",
    "    results.update(accuracy_metric.compute(predictions=predictions, references=labels))\n",
    "    results.update(f1_metric.compute(predictions=predictions, references=labels, average=\"weighted\"))\n",
    "    results.update(precision_metric.compute(predictions=predictions, references=labels, average=\"weighted\"))\n",
    "    results.update(recall_metric.compute(predictions=predictions, references=labels, average=\"weighted\"))\n",
    "    \n",
    "    return results\n",
    "\n",
    "# Criar um Trainer apenas para a avaliação\n",
    "final_trainer = Trainer(\n",
    "    model=model,\n",
    "    compute_metrics=compute_final_metrics\n",
    ")\n",
    "\n",
    "# Fazer as predições e obter as métricas\n",
    "final_evaluation_results = final_trainer.evaluate(eval_dataset=tokenized_final_test_dataset)\n",
    "\n",
    "print(\"\\n--- RESULTADOS FINAIS NO CONJUNTO DE TESTE ---\")\n",
    "print(f\"Acurácia Final: {final_evaluation_results['eval_accuracy']:.4f}\")\n",
    "print(f\"F1-Score Final (Ponderado): {final_evaluation_results['eval_f1']:.4f}\")\n",
    "print(f\"Precisão Final (Ponderada): {final_evaluation_results['eval_precision']:.4f}\")\n",
    "print(f\"Recall Final (Ponderado): {final_evaluation_results['eval_recall']:.4f}\")\n",
    "print(\"-------------------------------------------------\")"
   ]
  }
 ],
 "metadata": {
  "kernelspec": {
   "display_name": "torch-mps",
   "language": "python",
   "name": "python3"
  },
  "language_info": {
   "codemirror_mode": {
    "name": "ipython",
    "version": 3
   },
   "file_extension": ".py",
   "mimetype": "text/x-python",
   "name": "python",
   "nbconvert_exporter": "python",
   "pygments_lexer": "ipython3",
   "version": "3.10.18"
  }
 },
 "nbformat": 4,
 "nbformat_minor": 5
}
